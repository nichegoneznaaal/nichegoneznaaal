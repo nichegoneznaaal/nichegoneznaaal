{
 "cells": [
  {
   "cell_type": "code",
   "execution_count": 1,
   "id": "579577b5",
   "metadata": {},
   "outputs": [],
   "source": [
    "import numpy as np\n"
   ]
  },
  {
   "cell_type": "code",
   "execution_count": null,
   "id": "71606309",
   "metadata": {},
   "outputs": [],
   "source": [
    "a = np.array([0.0124,0.0015,-0.009,0.0073,-0.0009,0.0064,0])\n",
    "\n",
    "ideal = 0.10\n",
    "for i in range(40):\n",
    "    res = a.dot(b)\n",
    "    \n",
    "    "
   ]
  }
 ],
 "metadata": {
  "kernelspec": {
   "display_name": "Python 3",
   "language": "python",
   "name": "python3"
  },
  "language_info": {
   "codemirror_mode": {
    "name": "ipython",
    "version": 3
   },
   "file_extension": ".py",
   "mimetype": "text/x-python",
   "name": "python",
   "nbconvert_exporter": "python",
   "pygments_lexer": "ipython3",
   "version": "3.8.8"
  }
 },
 "nbformat": 4,
 "nbformat_minor": 5
}
