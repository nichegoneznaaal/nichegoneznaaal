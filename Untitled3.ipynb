{
 "cells": [
  {
   "cell_type": "code",
   "execution_count": 7,
   "id": "dcd6fbe8",
   "metadata": {},
   "outputs": [
    {
     "name": "stdout",
     "output_type": "stream",
     "text": [
      "Error:0.6400000000000001 Pred: 0.0 Weight:-0.4 Weight Delta:0.4 Input:0.5\n",
      "Error:0.3600000000000001 Pred: -0.2 Weight:-0.7000000000000001 Weight Delta:0.30000000000000004 Input:0.5\n",
      "Error:0.2025 Pred: -0.35000000000000003 Weight:-0.925 Weight Delta:0.225 Input:0.5\n",
      "Error:0.11390625000000001 Pred: -0.4625 Weight:-1.09375 Weight Delta:0.16875 Input:0.5\n",
      "Error:0.06407226562500003 Pred: -0.546875 Weight:-1.2203125 Weight Delta:0.12656250000000002 Input:0.5\n",
      "Error:0.036040649414062535 Pred: -0.61015625 Weight:-1.315234375 Weight Delta:0.09492187500000004 Input:0.5\n",
      "Error:0.020272865295410177 Pred: -0.6576171875 Weight:-1.38642578125 Weight Delta:0.07119140625000003 Input:0.5\n",
      "Error:0.011403486728668217 Pred: -0.693212890625 Weight:-1.4398193359375 Weight Delta:0.05339355468750001 Input:0.5\n",
      "Error:0.006414461284875877 Pred: -0.71990966796875 Weight:-1.479864501953125 Weight Delta:0.04004516601562502 Input:0.5\n",
      "Error:0.0036081344727426873 Pred: -0.7399322509765625 Weight:-1.5098983764648437 Weight Delta:0.030033874511718794 Input:0.5\n"
     ]
    }
   ],
   "source": [
    "weight, goal_pr, inp = (0.0, -0.8,0.5)\n",
    "\n",
    "for i in range(10):\n",
    "    pred = inp * weight\n",
    "    error = (pred - goal_pr) ** 2\n",
    "    delta = pred - goal_pr\n",
    "    weight_delta = delta * inp\n",
    "    weight = weight - weight_delta\n",
    "    print(f\"Error:{error} Pred: {pred} Weight:{weight} Weight Delta:{weight_delta} Input:{inp}\")"
   ]
  },
  {
   "cell_type": "code",
   "execution_count": null,
   "id": "a93e03d0",
   "metadata": {},
   "outputs": [],
   "source": []
  }
 ],
 "metadata": {
  "kernelspec": {
   "display_name": "Python 3",
   "language": "python",
   "name": "python3"
  },
  "language_info": {
   "codemirror_mode": {
    "name": "ipython",
    "version": 3
   },
   "file_extension": ".py",
   "mimetype": "text/x-python",
   "name": "python",
   "nbconvert_exporter": "python",
   "pygments_lexer": "ipython3",
   "version": "3.8.8"
  }
 },
 "nbformat": 4,
 "nbformat_minor": 5
}
