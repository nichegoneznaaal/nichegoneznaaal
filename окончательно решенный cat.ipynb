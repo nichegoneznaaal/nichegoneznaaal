{
 "cells": [
  {
   "cell_type": "code",
   "execution_count": 74,
   "id": "22af4421",
   "metadata": {},
   "outputs": [],
   "source": [
    "import numpy as np\n",
    "import re\n",
    "from scipy.spatial import distance"
   ]
  },
  {
   "cell_type": "raw",
   "id": "e91a3fd1",
   "metadata": {},
   "source": [
    "\n"
   ]
  },
  {
   "cell_type": "code",
   "execution_count": 2,
   "id": "868cc447",
   "metadata": {},
   "outputs": [],
   "source": [
    "a = open(\"_3a8d746cf4d86fba2f31586f239d11fd_sentences.txt\", \"r\")\n",
    "b = a.read().lower()\n",
    "test_ = b.split('\\n')\n",
    "test_ = ','.join(test_)\n",
    "pred = test_.split('.,')\n",
    "pred = pred[:22]\n",
    "res =re.split('[^a-z]',b)"
   ]
  },
  {
   "cell_type": "code",
   "execution_count": 29,
   "id": "f0cadead",
   "metadata": {},
   "outputs": [
    {
     "ename": "IndexError",
     "evalue": "list index out of range",
     "output_type": "error",
     "traceback": [
      "\u001b[1;31m---------------------------------------------------------------------------\u001b[0m",
      "\u001b[1;31mIndexError\u001b[0m                                Traceback (most recent call last)",
      "\u001b[1;32m<ipython-input-29-25cb5189bf2b>\u001b[0m in \u001b[0;36m<module>\u001b[1;34m\u001b[0m\n\u001b[0;32m      1\u001b[0m \u001b[1;32mfor\u001b[0m \u001b[0ma\u001b[0m \u001b[1;32min\u001b[0m \u001b[0mrange\u001b[0m\u001b[1;33m(\u001b[0m\u001b[1;36m100\u001b[0m\u001b[1;33m)\u001b[0m\u001b[1;33m:\u001b[0m\u001b[1;33m\u001b[0m\u001b[1;33m\u001b[0m\u001b[0m\n\u001b[0;32m      2\u001b[0m     \u001b[1;32mfor\u001b[0m \u001b[0mi\u001b[0m \u001b[1;32min\u001b[0m \u001b[0mrange\u001b[0m\u001b[1;33m(\u001b[0m\u001b[0mlen\u001b[0m\u001b[1;33m(\u001b[0m\u001b[0mres\u001b[0m\u001b[1;33m)\u001b[0m \u001b[1;33m-\u001b[0m \u001b[1;36m1\u001b[0m\u001b[1;33m)\u001b[0m\u001b[1;33m:\u001b[0m\u001b[1;33m\u001b[0m\u001b[1;33m\u001b[0m\u001b[0m\n\u001b[1;32m----> 3\u001b[1;33m         \u001b[1;32mif\u001b[0m \u001b[0mres\u001b[0m\u001b[1;33m[\u001b[0m\u001b[0mi\u001b[0m\u001b[1;33m]\u001b[0m \u001b[1;33m==\u001b[0m  \u001b[1;34m''\u001b[0m\u001b[1;33m:\u001b[0m\u001b[1;33m\u001b[0m\u001b[1;33m\u001b[0m\u001b[0m\n\u001b[0m\u001b[0;32m      4\u001b[0m             \u001b[0mres\u001b[0m\u001b[1;33m.\u001b[0m\u001b[0mpop\u001b[0m\u001b[1;33m(\u001b[0m\u001b[0mi\u001b[0m\u001b[1;33m)\u001b[0m\u001b[1;33m\u001b[0m\u001b[1;33m\u001b[0m\u001b[0m\n",
      "\u001b[1;31mIndexError\u001b[0m: list index out of range"
     ]
    }
   ],
   "source": [
    "for a in range(100):\n",
    "    for i in range(len(res) - 1):\n",
    "        if res[i] ==  '':\n",
    "            res.pop(i)\n"
   ]
  },
  {
   "cell_type": "code",
   "execution_count": 34,
   "id": "0812efc1",
   "metadata": {},
   "outputs": [],
   "source": [
    "res = list(set(res))"
   ]
  },
  {
   "cell_type": "code",
   "execution_count": 42,
   "id": "5788d693",
   "metadata": {},
   "outputs": [],
   "source": [
    "i = 0\n",
    "words_dict = {i:res[i] for i in range(len(res))}"
   ]
  },
  {
   "cell_type": "code",
   "execution_count": 43,
   "id": "92290958",
   "metadata": {},
   "outputs": [
    {
     "name": "stdout",
     "output_type": "stream",
     "text": [
      "{0: 'unnecessary', 1: 'mice', 2: 'basic', 3: 'useful', 4: 'those', 5: 'closest', 6: 'just', 7: 'genes', 8: 'one', 9: 'its', 10: 'any', 11: 'hear', 12: 'received', 13: 'started', 14: 'is', 15: 'information', 16: 'linux', 17: 'longer', 18: 'files', 19: 'symbol', 20: 'on', 21: 'store', 22: 'small', 23: 'world', 24: 'moved', 25: 'based', 26: 'to', 27: 'october', 28: 'patch', 29: 'command', 30: 'switch', 31: 'arguments', 32: 'redirection', 33: 'create', 34: 'default', 35: 'marks', 36: 'now', 37: 'such', 38: 'legibility', 39: 'computers', 40: 'some', 41: 'fifth', 42: 'editions', 43: 'weighing', 44: 'x', 45: 'from', 46: 'piped', 47: 'versions', 48: 'in', 49: 'selection', 50: 'roughly', 51: 'safer', 52: 'using', 53: 'without', 54: 'concatenate', 55: 'part', 56: 'download', 57: 'releasing', 58: 'stdin', 59: 'installed', 60: 'possess', 61: 'between', 62: 'you', 63: 'pipes', 64: 'made', 65: 'has', 66: 'needing', 67: 'however', 68: 'symbols', 69: 'app', 70: 'a', 71: 'most', 72: 'people', 73: 'comparison', 74: 'processors', 75: 'left', 76: 'was', 77: 'installation', 78: 'july', 79: 'run', 80: 'and', 81: 'learned', 82: 'domestication', 83: 'animals', 84: 'new', 85: 'two', 86: 'developed', 87: 'online', 88: 'felis', 89: 'changes', 90: 'year', 91: 'read', 92: 'undergone', 93: 'osx', 94: 'terms', 95: 'adjacent', 96: 'for', 97: 'high', 98: 'faint', 99: 'tamed', 100: 'through', 101: 'entirely', 102: 'intel', 103: 'concern', 104: 'as', 105: 'unix', 106: 'version', 107: 'ancestor', 108: 'offered', 109: 'rather', 110: 'won', 111: 'right', 112: 'kg', 113: 'no', 114: 'standard', 115: 'an', 116: 'use', 117: 'os', 118: 'second', 119: 'often', 120: 'place', 121: 'predecessor', 122: 'are', 123: 'lines', 124: 'of', 125: 'commands', 126: 'redirected', 127: 'mountain', 128: 'factory', 129: 'running', 130: 'update', 131: 'drive', 132: 'by', 133: 'they', 134: 'flow', 135: 'lion', 136: 'where', 137: 'wrong', 138: 'output', 139: 'community', 140: 'process', 141: 'cats', 142: 'non', 143: 'successor', 144: 'apple', 145: 'deliberately', 146: 'named', 147: 'may', 148: 'count', 149: 'organisms', 150: 'or', 151: 'major', 152: 'allow', 153: 'both', 154: 'more', 155: 'recent', 156: 'firmware', 157: 'so', 158: 'need', 159: 'connected', 160: 'available', 161: 'size', 162: 'it', 163: 'permanently', 164: 'incremental', 165: 'time', 166: 'diploid', 167: 'also', 168: 'clear', 169: 'external', 170: 'disk', 171: 'frequency', 172: 'bytes', 173: 'leopard', 174: 'allows', 175: 'not', 176: 'instead', 177: 'too', 178: 'during', 179: 'displays', 180: 'stdout', 181: 'be', 182: 'every', 183: 'receives', 184: 'similar', 185: 'sounds', 186: 'released', 187: 'other', 188: 'mac', 189: 'which', 190: 'dogs', 191: 'typically', 192: 'catenates', 193: 'can', 194: 'than', 195: 'simply', 196: 'their', 197: 'contains', 198: 's', 199: 'starting', 200: 'ears', 201: 'sequence', 202: 'content', 203: 'later', 204: 'when', 205: 'artificial', 206: 'cat', 207: 'single', 208: 'domestic', 209: 'according', 210: 'predators', 211: 'tiger', 212: 'installs', 213: 'file', 214: 'domesticated', 215: 'delete', 216: 'mavericks', 217: 'upgrade', 218: 'the', 219: 'common', 220: 'binary', 221: 'genus', 222: 'wild', 223: 'type', 224: 'members', 225: 'mid', 226: 'separate', 227: 'if', 228: 'with', 229: 'over', 230: 'safari', 231: 'streams', 232: 'features', 233: 'interactive', 234: 'three', 235: 'keyboards', 236: 'enhancements', 237: 'purchase', 238: 'vermin', 239: 'error', 240: 'were', 241: 'that', 242: 'human', 243: 'yosemite', 244: 'release', 245: 't', 246: 'off', 247: 'releases', 248: 'have', 249: 'chromosomes', 250: 'since', 251: 'used', 252: 'will', 253: 'lb'}\n"
     ]
    }
   ],
   "source": [
    "print(words_dict)"
   ]
  },
  {
   "cell_type": "code",
   "execution_count": 45,
   "id": "73426d6b",
   "metadata": {},
   "outputs": [],
   "source": [
    "for i in range(len(pred)):\n",
    "    pred[i] = re.split('[^a-z]',pred[i])"
   ]
  },
  {
   "cell_type": "code",
   "execution_count": 46,
   "id": "b28a480b",
   "metadata": {},
   "outputs": [
    {
     "name": "stdout",
     "output_type": "stream",
     "text": [
      "[['in', 'comparison', 'to', 'dogs', '', 'cats', 'have', 'not', 'undergone', 'major', 'changes', 'during', 'the', 'domestication', 'process'], ['as', 'cat', 'simply', 'catenates', 'streams', 'of', 'bytes', '', 'it', 'can', 'be', 'also', 'used', 'to', 'concatenate', 'binary', 'files', '', 'where', 'it', 'will', 'just', 'concatenate', 'sequence', 'of', 'bytes'], ['a', 'common', 'interactive', 'use', 'of', 'cat', 'for', 'a', 'single', 'file', 'is', 'to', 'output', 'the', 'content', 'of', 'a', 'file', 'to', 'standard', 'output'], ['cats', 'can', 'hear', 'sounds', 'too', 'faint', 'or', 'too', 'high', 'in', 'frequency', 'for', 'human', 'ears', '', 'such', 'as', 'those', 'made', 'by', 'mice', 'and', 'other', 'small', 'animals'], ['in', 'one', '', 'people', 'deliberately', 'tamed', 'cats', 'in', 'a', 'process', 'of', 'artificial', 'selection', '', 'as', 'they', 'were', 'useful', 'predators', 'of', 'vermin'], ['the', 'domesticated', 'cat', 'and', 'its', 'closest', 'wild', 'ancestor', 'are', 'both', 'diploid', 'organisms', 'that', 'possess', '', '', '', 'chromosomes', 'and', 'roughly', '', '', '', '', '', '', '', 'genes'], ['domestic', 'cats', 'are', 'similar', 'in', 'size', 'to', 'the', 'other', 'members', 'of', 'the', 'genus', 'felis', '', 'typically', 'weighing', 'between', '', '', 'and', '', '', 'kg', '', '', '', '', '', 'and', '', '', '', '', '', 'lb', ''], ['however', '', 'if', 'the', 'output', 'is', 'piped', 'or', 'redirected', '', 'cat', 'is', 'unnecessary'], ['cat', 'with', 'one', 'named', 'file', 'is', 'safer', 'where', 'human', 'error', 'is', 'a', 'concern', '', '', 'one', 'wrong', 'use', 'of', 'the', 'default', 'redirection', 'symbol', '', '', '', '', 'instead', 'of', '', '', '', '', '', 'often', 'adjacent', 'on', 'keyboards', '', 'may', 'permanently', 'delete', 'the', 'file', 'you', 'were', 'just', 'needing', 'to', 'read'], ['in', 'terms', 'of', 'legibility', '', 'a', 'sequence', 'of', 'commands', 'starting', 'with', 'cat', 'and', 'connected', 'by', 'pipes', 'has', 'a', 'clear', 'left', 'to', 'right', 'flow', 'of', 'information'], ['cat', 'command', 'is', 'one', 'of', 'the', 'basic', 'commands', 'that', 'you', 'learned', 'when', 'you', 'started', 'in', 'the', 'unix', '', '', 'linux', 'world'], ['using', 'cat', 'command', '', 'the', 'lines', 'received', 'from', 'stdin', 'can', 'be', 'redirected', 'to', 'a', 'new', 'file', 'using', 'redirection', 'symbols'], ['when', 'you', 'type', 'simply', 'cat', 'command', 'without', 'any', 'arguments', '', 'it', 'just', 'receives', 'the', 'stdin', 'content', 'and', 'displays', 'it', 'in', 'the', 'stdout'], ['leopard', 'was', 'released', 'on', 'october', '', '', '', '', '', '', '', '', '', 'as', 'the', 'successor', 'of', 'tiger', '', 'version', '', '', '', '', '', '', '', 'and', 'is', 'available', 'in', 'two', 'editions'], ['according', 'to', 'apple', '', 'leopard', 'contains', 'over', '', '', '', '', 'changes', 'and', 'enhancements', 'over', 'its', 'predecessor', '', 'mac', 'os', 'x', 'tiger'], ['as', 'of', 'mid', '', '', '', '', '', '', 'some', 'apple', 'computers', 'have', 'firmware', 'factory', 'installed', 'which', 'will', 'no', 'longer', 'allow', 'installation', 'of', 'mac', 'os', 'x', 'leopard'], ['since', 'apple', 'moved', 'to', 'using', 'intel', 'processors', 'in', 'their', 'computers', '', 'the', 'osx', '', '', 'community', 'has', 'developed', 'and', 'now', 'also', 'allows', 'mac', 'os', 'x', 'tiger', 'and', 'later', 'releases', 'to', 'be', 'installed', 'on', 'non', 'apple', 'x', '', '', 'based', 'computers'], ['os', 'x', 'mountain', 'lion', 'was', 'released', 'on', 'july', '', '', '', '', '', '', '', '', '', 'for', 'purchase', 'and', 'download', 'through', 'apple', 's', 'mac', 'app', 'store', '', 'as', 'part', 'of', 'a', 'switch', 'to', 'releasing', 'os', 'x', 'versions', 'online', 'and', 'every', 'year'], ['apple', 'has', 'released', 'a', 'small', 'patch', 'for', 'the', 'three', 'most', 'recent', 'versions', 'of', 'safari', 'running', 'on', 'os', 'x', 'yosemite', '', 'mavericks', '', 'and', 'mountain', 'lion'], ['the', 'mountain', 'lion', 'release', 'marks', 'the', 'second', 'time', 'apple', 'has', 'offered', 'an', 'incremental', 'upgrade', '', 'rather', 'than', 'releasing', 'a', 'new', 'cat', 'entirely'], ['mac', 'os', 'x', 'mountain', 'lion', 'installs', 'in', 'place', '', 'so', 'you', 'won', 't', 'need', 'to', 'create', 'a', 'separate', 'disk', 'or', 'run', 'the', 'installation', 'off', 'an', 'external', 'drive'], ['the', 'fifth', 'major', 'update', 'to', 'mac', 'os', 'x', '', 'leopard', '', 'contains', 'such', 'a', 'mountain', 'of', 'features', '', '', 'more', 'than', '', '', '', '', 'by', 'apple', 's', 'count']]\n"
     ]
    }
   ],
   "source": [
    "print(pred)"
   ]
  },
  {
   "cell_type": "code",
   "execution_count": 64,
   "id": "2ddd82dd",
   "metadata": {},
   "outputs": [],
   "source": [
    "a = 0\n",
    "for i in pred:\n",
    "    for a in i:\n",
    "        if a == '':\n",
    "            i.remove(a)"
   ]
  },
  {
   "cell_type": "code",
   "execution_count": 65,
   "id": "db09241e",
   "metadata": {},
   "outputs": [
    {
     "name": "stdout",
     "output_type": "stream",
     "text": [
      "[['in', 'comparison', 'to', 'dogs', 'cats', 'have', 'not', 'undergone', 'major', 'changes', 'during', 'the', 'domestication', 'process'], ['as', 'cat', 'simply', 'catenates', 'streams', 'of', 'bytes', 'it', 'can', 'be', 'also', 'used', 'to', 'concatenate', 'binary', 'files', 'where', 'it', 'will', 'just', 'concatenate', 'sequence', 'of', 'bytes'], ['a', 'common', 'interactive', 'use', 'of', 'cat', 'for', 'a', 'single', 'file', 'is', 'to', 'output', 'the', 'content', 'of', 'a', 'file', 'to', 'standard', 'output'], ['cats', 'can', 'hear', 'sounds', 'too', 'faint', 'or', 'too', 'high', 'in', 'frequency', 'for', 'human', 'ears', 'such', 'as', 'those', 'made', 'by', 'mice', 'and', 'other', 'small', 'animals'], ['in', 'one', 'people', 'deliberately', 'tamed', 'cats', 'in', 'a', 'process', 'of', 'artificial', 'selection', 'as', 'they', 'were', 'useful', 'predators', 'of', 'vermin'], ['the', 'domesticated', 'cat', 'and', 'its', 'closest', 'wild', 'ancestor', 'are', 'both', 'diploid', 'organisms', 'that', 'possess', 'chromosomes', 'and', 'roughly', 'genes'], ['domestic', 'cats', 'are', 'similar', 'in', 'size', 'to', 'the', 'other', 'members', 'of', 'the', 'genus', 'felis', 'typically', 'weighing', 'between', 'and', 'kg', 'and', 'lb'], ['however', 'if', 'the', 'output', 'is', 'piped', 'or', 'redirected', 'cat', 'is', 'unnecessary'], ['cat', 'with', 'one', 'named', 'file', 'is', 'safer', 'where', 'human', 'error', 'is', 'a', 'concern', 'one', 'wrong', 'use', 'of', 'the', 'default', 'redirection', 'symbol', 'instead', 'of', 'often', 'adjacent', 'on', 'keyboards', 'may', 'permanently', 'delete', 'the', 'file', 'you', 'were', 'just', 'needing', 'to', 'read'], ['in', 'terms', 'of', 'legibility', 'a', 'sequence', 'of', 'commands', 'starting', 'with', 'cat', 'and', 'connected', 'by', 'pipes', 'has', 'a', 'clear', 'left', 'to', 'right', 'flow', 'of', 'information'], ['cat', 'command', 'is', 'one', 'of', 'the', 'basic', 'commands', 'that', 'you', 'learned', 'when', 'you', 'started', 'in', 'the', 'unix', 'linux', 'world'], ['using', 'cat', 'command', 'the', 'lines', 'received', 'from', 'stdin', 'can', 'be', 'redirected', 'to', 'a', 'new', 'file', 'using', 'redirection', 'symbols'], ['when', 'you', 'type', 'simply', 'cat', 'command', 'without', 'any', 'arguments', 'it', 'just', 'receives', 'the', 'stdin', 'content', 'and', 'displays', 'it', 'in', 'the', 'stdout'], ['leopard', 'was', 'released', 'on', 'october', 'as', 'the', 'successor', 'of', 'tiger', 'version', 'and', 'is', 'available', 'in', 'two', 'editions'], ['according', 'to', 'apple', 'leopard', 'contains', 'over', 'changes', 'and', 'enhancements', 'over', 'its', 'predecessor', 'mac', 'os', 'x', 'tiger'], ['as', 'of', 'mid', 'some', 'apple', 'computers', 'have', 'firmware', 'factory', 'installed', 'which', 'will', 'no', 'longer', 'allow', 'installation', 'of', 'mac', 'os', 'x', 'leopard'], ['since', 'apple', 'moved', 'to', 'using', 'intel', 'processors', 'in', 'their', 'computers', 'the', 'osx', 'community', 'has', 'developed', 'and', 'now', 'also', 'allows', 'mac', 'os', 'x', 'tiger', 'and', 'later', 'releases', 'to', 'be', 'installed', 'on', 'non', 'apple', 'x', 'based', 'computers'], ['os', 'x', 'mountain', 'lion', 'was', 'released', 'on', 'july', 'for', 'purchase', 'and', 'download', 'through', 'apple', 's', 'mac', 'app', 'store', 'as', 'part', 'of', 'a', 'switch', 'to', 'releasing', 'os', 'x', 'versions', 'online', 'and', 'every', 'year'], ['apple', 'has', 'released', 'a', 'small', 'patch', 'for', 'the', 'three', 'most', 'recent', 'versions', 'of', 'safari', 'running', 'on', 'os', 'x', 'yosemite', 'mavericks', 'and', 'mountain', 'lion'], ['the', 'mountain', 'lion', 'release', 'marks', 'the', 'second', 'time', 'apple', 'has', 'offered', 'an', 'incremental', 'upgrade', 'rather', 'than', 'releasing', 'a', 'new', 'cat', 'entirely'], ['mac', 'os', 'x', 'mountain', 'lion', 'installs', 'in', 'place', 'so', 'you', 'won', 't', 'need', 'to', 'create', 'a', 'separate', 'disk', 'or', 'run', 'the', 'installation', 'off', 'an', 'external', 'drive'], ['the', 'fifth', 'major', 'update', 'to', 'mac', 'os', 'x', 'leopard', 'contains', 'such', 'a', 'mountain', 'of', 'features', 'more', 'than', 'by', 'apple', 's', 'count']]\n"
     ]
    }
   ],
   "source": [
    "print(pred)"
   ]
  },
  {
   "cell_type": "code",
   "execution_count": 95,
   "id": "6edd2d30",
   "metadata": {},
   "outputs": [],
   "source": [
    "result_matrix = np.zeros((22,254))"
   ]
  },
  {
   "cell_type": "code",
   "execution_count": 97,
   "id": "6e2be8c3",
   "metadata": {},
   "outputs": [],
   "source": [
    "for i in range(len(result_matrix)):\n",
    "    for key in words_dict:\n",
    "        for a in range(len(pred[i])):\n",
    "            if words_dict[key] == pred[i][a]:\n",
    "                result_matrix[i][key] += 1\n",
    "        "
   ]
  },
  {
   "cell_type": "code",
   "execution_count": 98,
   "id": "e38c3b22",
   "metadata": {},
   "outputs": [
    {
     "name": "stdout",
     "output_type": "stream",
     "text": [
      "[[0. 0. 0. ... 0. 0. 0.]\n",
      " [0. 0. 0. ... 1. 1. 0.]\n",
      " [0. 0. 0. ... 0. 0. 0.]\n",
      " ...\n",
      " [0. 0. 0. ... 0. 0. 0.]\n",
      " [0. 0. 0. ... 0. 0. 0.]\n",
      " [0. 0. 0. ... 0. 0. 0.]]\n"
     ]
    }
   ],
   "source": [
    "print(result_matrix)"
   ]
  },
  {
   "cell_type": "code",
   "execution_count": 92,
   "id": "1ca74b3d",
   "metadata": {},
   "outputs": [
    {
     "name": "stdout",
     "output_type": "stream",
     "text": [
      "[0. 0. 0. 0. 0. 0. 1. 0. 0. 0. 0. 0. 0. 0. 0. 0. 0. 0. 1. 0. 0. 0. 0. 0.\n",
      " 0. 0. 1. 0. 0. 0. 0. 0. 0. 0. 0. 0. 0. 0. 0. 0. 0. 0. 0. 0. 0. 0. 0. 0.\n",
      " 0. 0. 0. 0. 0. 0. 2. 0. 0. 0. 0. 0. 0. 0. 0. 0. 0. 0. 0. 0. 0. 0. 0. 0.\n",
      " 0. 0. 0. 0. 0. 0. 0. 0. 0. 0. 0. 0. 0. 0. 0. 0. 0. 0. 0. 0. 0. 0. 0. 0.\n",
      " 0. 0. 0. 0. 0. 0. 0. 0. 1. 0. 0. 0. 0. 0. 0. 0. 0. 0. 0. 0. 0. 0. 0. 0.\n",
      " 0. 0. 0. 0. 2. 0. 0. 0. 0. 0. 0. 0. 0. 0. 0. 0. 1. 0. 0. 0. 0. 0. 0. 0.\n",
      " 0. 0. 0. 0. 0. 0. 0. 0. 0. 0. 0. 0. 0. 0. 0. 0. 0. 0. 2. 0. 0. 0. 0. 1.\n",
      " 0. 0. 0. 0. 2. 0. 0. 0. 0. 0. 0. 0. 0. 1. 0. 0. 0. 0. 0. 0. 0. 0. 0. 0.\n",
      " 1. 1. 0. 1. 0. 0. 0. 0. 0. 1. 0. 0. 0. 0. 1. 0. 0. 0. 0. 0. 0. 0. 0. 0.\n",
      " 0. 0. 0. 0. 1. 0. 0. 0. 0. 0. 0. 0. 0. 0. 0. 1. 0. 0. 0. 0. 0. 0. 0. 0.\n",
      " 0. 0. 0. 0. 0. 0. 0. 0. 0. 0. 0. 1. 1. 0.]\n"
     ]
    }
   ],
   "source": [
    "print(result_matrix[1])"
   ]
  },
  {
   "cell_type": "code",
   "execution_count": 71,
   "id": "1173eddc",
   "metadata": {},
   "outputs": [
    {
     "ename": "AttributeError",
     "evalue": "module 'scipy' has no attribute 'spatial'",
     "output_type": "error",
     "traceback": [
      "\u001b[1;31m---------------------------------------------------------------------------\u001b[0m",
      "\u001b[1;31mAttributeError\u001b[0m                            Traceback (most recent call last)",
      "\u001b[1;32m<ipython-input-71-5172c512cc2d>\u001b[0m in \u001b[0;36m<module>\u001b[1;34m\u001b[0m\n\u001b[1;32m----> 1\u001b[1;33m \u001b[0mscipy\u001b[0m\u001b[1;33m.\u001b[0m\u001b[0mspatial\u001b[0m\u001b[1;33m.\u001b[0m\u001b[0mdistance\u001b[0m\u001b[1;33m.\u001b[0m\u001b[0mcosine\u001b[0m\u001b[1;33m\u001b[0m\u001b[1;33m\u001b[0m\u001b[0m\n\u001b[0m",
      "\u001b[1;31mAttributeError\u001b[0m: module 'scipy' has no attribute 'spatial'"
     ]
    }
   ],
   "source": []
  },
  {
   "cell_type": "code",
   "execution_count": 100,
   "id": "4db4cea8",
   "metadata": {},
   "outputs": [
    {
     "name": "stdout",
     "output_type": "stream",
     "text": [
      "0\n",
      "0.0\n",
      "========\n",
      "1\n",
      "0.9527544408738466\n",
      "========\n",
      "2\n",
      "0.8644738145642124\n",
      "========\n",
      "3\n",
      "0.8951715163278082\n",
      "========\n",
      "4\n",
      "0.7770887149698589\n",
      "========\n",
      "5\n",
      "0.9402385695332803\n",
      "========\n",
      "6\n",
      "0.7327387580875756\n",
      "========\n",
      "7\n",
      "0.9258750683338899\n",
      "========\n",
      "8\n",
      "0.8842724875284311\n",
      "========\n",
      "9\n",
      "0.9055088817476932\n",
      "========\n",
      "10\n",
      "0.8328165362273942\n",
      "========\n",
      "11\n",
      "0.8804771390665607\n",
      "========\n",
      "12\n",
      "0.8396432548525454\n",
      "========\n",
      "13\n",
      "0.8703592552895671\n",
      "========\n",
      "14\n",
      "0.8740118423302576\n",
      "========\n",
      "15\n",
      "0.9442721787424647\n",
      "========\n",
      "16\n",
      "0.8406361854220809\n",
      "========\n",
      "17\n",
      "0.956644501523794\n",
      "========\n",
      "18\n",
      "0.9442721787424647\n",
      "========\n",
      "19\n",
      "0.8885443574849294\n",
      "========\n",
      "20\n",
      "0.8427572744917122\n",
      "========\n",
      "21\n",
      "0.8250364469440588\n",
      "========\n"
     ]
    }
   ],
   "source": [
    "for i in range(22):\n",
    "    print(i)\n",
    "    print(distance.cosine(result_matrix[0],result_matrix[i]))\n",
    "    print('========')"
   ]
  },
  {
   "cell_type": "code",
   "execution_count": 103,
   "id": "f853dbfe",
   "metadata": {},
   "outputs": [],
   "source": [
    "new_file = open(\"submission_cats.txt\", \"w+\")\n",
    "new_file.write = (\"6 4\")\n",
    "new_file.close()"
   ]
  },
  {
   "cell_type": "code",
   "execution_count": null,
   "id": "af8a6c62",
   "metadata": {},
   "outputs": [],
   "source": []
  }
 ],
 "metadata": {
  "kernelspec": {
   "display_name": "Python 3",
   "language": "python",
   "name": "python3"
  },
  "language_info": {
   "codemirror_mode": {
    "name": "ipython",
    "version": 3
   },
   "file_extension": ".py",
   "mimetype": "text/x-python",
   "name": "python",
   "nbconvert_exporter": "python",
   "pygments_lexer": "ipython3",
   "version": "3.8.8"
  }
 },
 "nbformat": 4,
 "nbformat_minor": 5
}
