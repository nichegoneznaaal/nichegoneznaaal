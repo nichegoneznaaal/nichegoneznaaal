{
 "cells": [
  {
   "cell_type": "code",
   "execution_count": 26,
   "id": "67beb16d",
   "metadata": {},
   "outputs": [],
   "source": [
    "import numpy as np\n",
    "\n",
    "class Neuron:\n",
    "    def __init__(self, w, f = lambda x: x):\n",
    "        self.w = w\n",
    "        self.f = lambda x:x\n",
    "    def forward(self, x):\n",
    "        self.a = x\n",
    "        self.x = x\n",
    "        result = np.dot(self.w, self.a)\n",
    "        return(self.f(result))\n",
    "        \n",
    "    def backlog(self):\n",
    "        return(self.x)"
   ]
  },
  {
   "cell_type": "code",
   "execution_count": 27,
   "id": "5b980748",
   "metadata": {},
   "outputs": [],
   "source": [
    "a = Neuron([0.5,1.0,-1.0,2.0])\n"
   ]
  },
  {
   "cell_type": "code",
   "execution_count": 28,
   "id": "88391b65",
   "metadata": {},
   "outputs": [
    {
     "name": "stdout",
     "output_type": "stream",
     "text": [
      "7.5\n"
     ]
    }
   ],
   "source": [
    "print(a.forward([1,2,3,4]))"
   ]
  },
  {
   "cell_type": "code",
   "execution_count": null,
   "id": "62e7cc49",
   "metadata": {},
   "outputs": [],
   "source": []
  }
 ],
 "metadata": {
  "kernelspec": {
   "display_name": "Python 3",
   "language": "python",
   "name": "python3"
  },
  "language_info": {
   "codemirror_mode": {
    "name": "ipython",
    "version": 3
   },
   "file_extension": ".py",
   "mimetype": "text/x-python",
   "name": "python",
   "nbconvert_exporter": "python",
   "pygments_lexer": "ipython3",
   "version": "3.8.8"
  }
 },
 "nbformat": 4,
 "nbformat_minor": 5
}
